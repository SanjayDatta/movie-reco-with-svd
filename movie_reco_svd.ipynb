{
 "cells": [
  {
   "cell_type": "markdown",
   "metadata": {},
   "source": [
    "# Movie recommendation using SVD\n",
    "\n",
    "Following was one of Scalable Data Mining Assignments.\n",
    "\n",
    "1. Load the MovieLens data and Convert the data into a matrix (for now, let it be dense)\n",
    "2. (Optional: if the data is too big to handle, choose a subset of the ratings)\n",
    "3. Leave out some non zero entries as a test set\n",
    "4. Perform normalization \n",
    "5. Perform SVD\n",
    "6. Compute the low rank ratings matrix according to the basic latent factor model\n",
    "7. Test performance against the test data that is left out\n",
    "\n",
    "First, download the data from: https://grouplens.org/datasets/movielens/"
   ]
  },
  {
   "cell_type": "markdown",
   "metadata": {},
   "source": [
    "### 1. Load the dataset and convert the data into a matrix\n",
    "\n",
    "Load the ratings.csv file and convert the data into a matrix R. Depending on how you load it, your movies may be rows or columns (and users vice versa). Mention that in the comment. "
   ]
  },
  {
   "cell_type": "code",
   "execution_count": null,
   "metadata": {},
   "outputs": [],
   "source": [
    "\"\"\"\n",
    "import requests\n",
    "url = 'http://files.grouplens.org/datasets/movielens/ml-1m.zip'\n",
    "content = requests.get(url)\n",
    "\n",
    "# unzip the content\n",
    "from io import BytesIO\n",
    "from zipfile import ZipFile\n",
    "f = ZipFile(BytesIO(content.content))\n",
    "print(f.namelist())\n",
    "f.extractall('./data')\n",
    "\"\"\""
   ]
  },
  {
   "cell_type": "markdown",
   "metadata": {},
   "source": [
    "### Import Libraries"
   ]
  },
  {
   "cell_type": "code",
   "execution_count": 1,
   "metadata": {},
   "outputs": [],
   "source": [
    "import pandas as pd\n",
    "import numpy as np\n",
    "from scipy import sparse\n",
    "from scipy.sparse.linalg import svds, eigs\n",
    "import matplotlib.pyplot as plt"
   ]
  },
  {
   "cell_type": "markdown",
   "metadata": {},
   "source": [
    "### Read Movies names"
   ]
  },
  {
   "cell_type": "code",
   "execution_count": 2,
   "metadata": {},
   "outputs": [],
   "source": [
    "movies = pd.read_csv('./data/ml-1m/movies.dat', sep='::', header=None, usecols=[0,1,2], \n",
    "                 names = ['movieID', 'movie_name', 'Genres', 'timestamp'],engine='python', error_bad_lines=False)\n",
    "# movies.to_csv('List of Movies.csv')"
   ]
  },
  {
   "cell_type": "code",
   "execution_count": 3,
   "metadata": {},
   "outputs": [],
   "source": [
    "movies['Genre_List'] = [movies['Genres'][i].split('|') for i in range(len(movies))]"
   ]
  },
  {
   "cell_type": "code",
   "execution_count": 4,
   "metadata": {},
   "outputs": [
    {
     "data": {
      "text/html": [
       "<div>\n",
       "<style scoped>\n",
       "    .dataframe tbody tr th:only-of-type {\n",
       "        vertical-align: middle;\n",
       "    }\n",
       "\n",
       "    .dataframe tbody tr th {\n",
       "        vertical-align: top;\n",
       "    }\n",
       "\n",
       "    .dataframe thead th {\n",
       "        text-align: right;\n",
       "    }\n",
       "</style>\n",
       "<table border=\"1\" class=\"dataframe\">\n",
       "  <thead>\n",
       "    <tr style=\"text-align: right;\">\n",
       "      <th></th>\n",
       "      <th>movieID</th>\n",
       "      <th>movie_name</th>\n",
       "      <th>Genres</th>\n",
       "      <th>Genre_List</th>\n",
       "    </tr>\n",
       "  </thead>\n",
       "  <tbody>\n",
       "    <tr>\n",
       "      <th>0</th>\n",
       "      <td>1</td>\n",
       "      <td>Toy Story (1995)</td>\n",
       "      <td>Animation|Children's|Comedy</td>\n",
       "      <td>[Animation, Children's, Comedy]</td>\n",
       "    </tr>\n",
       "    <tr>\n",
       "      <th>1</th>\n",
       "      <td>2</td>\n",
       "      <td>Jumanji (1995)</td>\n",
       "      <td>Adventure|Children's|Fantasy</td>\n",
       "      <td>[Adventure, Children's, Fantasy]</td>\n",
       "    </tr>\n",
       "    <tr>\n",
       "      <th>2</th>\n",
       "      <td>3</td>\n",
       "      <td>Grumpier Old Men (1995)</td>\n",
       "      <td>Comedy|Romance</td>\n",
       "      <td>[Comedy, Romance]</td>\n",
       "    </tr>\n",
       "    <tr>\n",
       "      <th>3</th>\n",
       "      <td>4</td>\n",
       "      <td>Waiting to Exhale (1995)</td>\n",
       "      <td>Comedy|Drama</td>\n",
       "      <td>[Comedy, Drama]</td>\n",
       "    </tr>\n",
       "    <tr>\n",
       "      <th>4</th>\n",
       "      <td>5</td>\n",
       "      <td>Father of the Bride Part II (1995)</td>\n",
       "      <td>Comedy</td>\n",
       "      <td>[Comedy]</td>\n",
       "    </tr>\n",
       "  </tbody>\n",
       "</table>\n",
       "</div>"
      ],
      "text/plain": [
       "   movieID                          movie_name                        Genres  \\\n",
       "0        1                    Toy Story (1995)   Animation|Children's|Comedy   \n",
       "1        2                      Jumanji (1995)  Adventure|Children's|Fantasy   \n",
       "2        3             Grumpier Old Men (1995)                Comedy|Romance   \n",
       "3        4            Waiting to Exhale (1995)                  Comedy|Drama   \n",
       "4        5  Father of the Bride Part II (1995)                        Comedy   \n",
       "\n",
       "                         Genre_List  \n",
       "0   [Animation, Children's, Comedy]  \n",
       "1  [Adventure, Children's, Fantasy]  \n",
       "2                 [Comedy, Romance]  \n",
       "3                   [Comedy, Drama]  \n",
       "4                          [Comedy]  "
      ]
     },
     "execution_count": 4,
     "metadata": {},
     "output_type": "execute_result"
    }
   ],
   "source": [
    "movies.head(5)"
   ]
  },
  {
   "cell_type": "markdown",
   "metadata": {},
   "source": [
    "#### Getting number of unique genres"
   ]
  },
  {
   "cell_type": "code",
   "execution_count": 5,
   "metadata": {},
   "outputs": [],
   "source": [
    "genres = np.unique([movies['Genre_List'][i][j] for i in range(len(movies)) for j in range(len(movies['Genre_List'][i]))])"
   ]
  },
  {
   "cell_type": "code",
   "execution_count": 6,
   "metadata": {},
   "outputs": [
    {
     "name": "stdout",
     "output_type": "stream",
     "text": [
      " No of movies:   3883 \n",
      " List of 18 genres: Action, Adventure, Animation, Children's, Comedy, Crime, Documentary, Drama, Fantasy, Film-Noir, Horror, Musical, Mystery, Romance, Sci-Fi, Thriller, War, Western\n"
     ]
    }
   ],
   "source": [
    "print(' No of movies:  ', len(movies), '\\n',\n",
    "      'List of', len(genres), 'genres:', ', '.join(genres))"
   ]
  },
  {
   "cell_type": "markdown",
   "metadata": {},
   "source": [
    "### Reading Rating Data"
   ]
  },
  {
   "cell_type": "code",
   "execution_count": 7,
   "metadata": {},
   "outputs": [],
   "source": [
    "df = pd.read_csv('./data/ml-1m/ratings.dat', sep='::', header=None, usecols=[0,1,2], \n",
    "                 names = ['userID', 'movieID', 'rating'], engine='python', error_bad_lines=False)\n",
    "# df.to_csv('Base Data.csv')"
   ]
  },
  {
   "cell_type": "code",
   "execution_count": 8,
   "metadata": {},
   "outputs": [
    {
     "name": "stdout",
     "output_type": "stream",
     "text": [
      "6040 unique users have rated 3706 movies out of 3883 and gave 1000209 ratings with an average of 3.58 and SD of 1.12\n"
     ]
    }
   ],
   "source": [
    "p=len(df['userID'].unique());q=len(df['movieID'].unique());r=len(movies);s=len(df);t=df['rating'].mean();u=df['rating'].std()\n",
    "print(f'{p} unique users have rated {q} movies out of {r} and gave {s} ratings with an average of {t:.2f} and SD of {u:.2f}')"
   ]
  },
  {
   "cell_type": "markdown",
   "metadata": {},
   "source": [
    "### Converting dataframe into sparse matrix for running SVD\n",
    "**For my matrix, movies are columns and users are rows**"
   ]
  },
  {
   "cell_type": "code",
   "execution_count": 9,
   "metadata": {},
   "outputs": [],
   "source": [
    "row = df.userID\n",
    "col = df.movieID\n",
    "data = df.rating\n",
    "A = sparse.coo_matrix((data, (row, col)), dtype=float)"
   ]
  },
  {
   "cell_type": "code",
   "execution_count": 10,
   "metadata": {},
   "outputs": [
    {
     "data": {
      "text/plain": [
       "((1000209,), (1000209,), (1000209,), (6041, 3953), scipy.sparse.coo.coo_matrix)"
      ]
     },
     "execution_count": 10,
     "metadata": {},
     "output_type": "execute_result"
    }
   ],
   "source": [
    "# np.savetxt(\"sparse A.csv\", A.toarray(), delimiter=\",\")\n",
    "row.shape, col.shape, data.shape, A.shape, type(A)"
   ]
  },
  {
   "cell_type": "markdown",
   "metadata": {},
   "source": [
    "### There are gaps in the movie id-s - 3953 vs. 3706 unique movie id-s. The gaps must be removed. Also, since the indexing starts from 0, one extra and row and column has been added."
   ]
  },
  {
   "cell_type": "markdown",
   "metadata": {},
   "source": [
    "### Mapping unique movie id-s to a running serial number"
   ]
  },
  {
   "cell_type": "code",
   "execution_count": 11,
   "metadata": {},
   "outputs": [],
   "source": [
    "keyset = sorted(df['movieID'].unique())\n",
    "valset = np.arange(len(df['movieID'].unique()))\n",
    "movie_mapping = dict(zip(keyset,valset))"
   ]
  },
  {
   "cell_type": "code",
   "execution_count": 12,
   "metadata": {},
   "outputs": [
    {
     "data": {
      "text/plain": [
       "(3952, 1, 3705, 0)"
      ]
     },
     "execution_count": 12,
     "metadata": {},
     "output_type": "execute_result"
    }
   ],
   "source": [
    "max(keyset), min(keyset), max(valset), min(valset)"
   ]
  },
  {
   "cell_type": "markdown",
   "metadata": {},
   "source": [
    "### Mapping unique user id-s to a running serial number"
   ]
  },
  {
   "cell_type": "code",
   "execution_count": 13,
   "metadata": {},
   "outputs": [],
   "source": [
    "keyset = sorted(df['userID'].unique())\n",
    "valset = np.arange(len(df['userID'].unique()))\n",
    "user_mapping = dict(zip(keyset,valset))"
   ]
  },
  {
   "cell_type": "code",
   "execution_count": 14,
   "metadata": {},
   "outputs": [
    {
     "data": {
      "text/plain": [
       "(6040, 1, 6039, 0)"
      ]
     },
     "execution_count": 14,
     "metadata": {},
     "output_type": "execute_result"
    }
   ],
   "source": [
    "max(keyset), min(keyset), max(valset), min(valset)"
   ]
  },
  {
   "cell_type": "markdown",
   "metadata": {},
   "source": [
    "### Mapping movie id-s to movie names"
   ]
  },
  {
   "cell_type": "code",
   "execution_count": 15,
   "metadata": {},
   "outputs": [],
   "source": [
    "keyset = movies['movieID']\n",
    "valset = movies['movie_name']\n",
    "movie_name_mapping = dict(zip(keyset,valset))"
   ]
  },
  {
   "cell_type": "markdown",
   "metadata": {},
   "source": [
    "### Mapping movie id-s to movie genres"
   ]
  },
  {
   "cell_type": "code",
   "execution_count": 16,
   "metadata": {},
   "outputs": [],
   "source": [
    "keyset = movies['movieID']\n",
    "valset = movies['Genres']\n",
    "movie_genre_mapping = dict(zip(keyset,valset))"
   ]
  },
  {
   "cell_type": "markdown",
   "metadata": {},
   "source": [
    "### Now we have to re-write the raw data in terms of the user and movie mapping above and then update the dataframe"
   ]
  },
  {
   "cell_type": "code",
   "execution_count": 17,
   "metadata": {},
   "outputs": [],
   "source": [
    "df['user_srl'] = df['userID'].replace(user_mapping, inplace=False)"
   ]
  },
  {
   "cell_type": "code",
   "execution_count": 18,
   "metadata": {},
   "outputs": [],
   "source": [
    "df['movie_srl'] = df['movieID'].replace(movie_mapping, inplace=False)"
   ]
  },
  {
   "cell_type": "code",
   "execution_count": 19,
   "metadata": {},
   "outputs": [],
   "source": [
    "df['movie'] = df['movieID'].replace(movie_name_mapping, inplace=False)"
   ]
  },
  {
   "cell_type": "code",
   "execution_count": 20,
   "metadata": {},
   "outputs": [],
   "source": [
    "df['Genre'] = df['movieID'].replace(movie_genre_mapping, inplace=False)"
   ]
  },
  {
   "cell_type": "code",
   "execution_count": 21,
   "metadata": {},
   "outputs": [
    {
     "data": {
      "text/html": [
       "<div>\n",
       "<style scoped>\n",
       "    .dataframe tbody tr th:only-of-type {\n",
       "        vertical-align: middle;\n",
       "    }\n",
       "\n",
       "    .dataframe tbody tr th {\n",
       "        vertical-align: top;\n",
       "    }\n",
       "\n",
       "    .dataframe thead th {\n",
       "        text-align: right;\n",
       "    }\n",
       "</style>\n",
       "<table border=\"1\" class=\"dataframe\">\n",
       "  <thead>\n",
       "    <tr style=\"text-align: right;\">\n",
       "      <th></th>\n",
       "      <th>userID</th>\n",
       "      <th>movieID</th>\n",
       "      <th>rating</th>\n",
       "      <th>user_srl</th>\n",
       "      <th>movie_srl</th>\n",
       "      <th>movie</th>\n",
       "      <th>Genre</th>\n",
       "    </tr>\n",
       "  </thead>\n",
       "  <tbody>\n",
       "    <tr>\n",
       "      <th>0</th>\n",
       "      <td>1</td>\n",
       "      <td>1193</td>\n",
       "      <td>5</td>\n",
       "      <td>0</td>\n",
       "      <td>1104</td>\n",
       "      <td>One Flew Over the Cuckoo's Nest (1975)</td>\n",
       "      <td>Drama</td>\n",
       "    </tr>\n",
       "    <tr>\n",
       "      <th>1</th>\n",
       "      <td>1</td>\n",
       "      <td>661</td>\n",
       "      <td>3</td>\n",
       "      <td>0</td>\n",
       "      <td>639</td>\n",
       "      <td>James and the Giant Peach (1996)</td>\n",
       "      <td>Animation|Children's|Musical</td>\n",
       "    </tr>\n",
       "    <tr>\n",
       "      <th>2</th>\n",
       "      <td>1</td>\n",
       "      <td>914</td>\n",
       "      <td>3</td>\n",
       "      <td>0</td>\n",
       "      <td>853</td>\n",
       "      <td>My Fair Lady (1964)</td>\n",
       "      <td>Musical|Romance</td>\n",
       "    </tr>\n",
       "    <tr>\n",
       "      <th>3</th>\n",
       "      <td>1</td>\n",
       "      <td>3408</td>\n",
       "      <td>4</td>\n",
       "      <td>0</td>\n",
       "      <td>3177</td>\n",
       "      <td>Erin Brockovich (2000)</td>\n",
       "      <td>Drama</td>\n",
       "    </tr>\n",
       "    <tr>\n",
       "      <th>4</th>\n",
       "      <td>1</td>\n",
       "      <td>2355</td>\n",
       "      <td>5</td>\n",
       "      <td>0</td>\n",
       "      <td>2162</td>\n",
       "      <td>Bug's Life, A (1998)</td>\n",
       "      <td>Animation|Children's|Comedy</td>\n",
       "    </tr>\n",
       "  </tbody>\n",
       "</table>\n",
       "</div>"
      ],
      "text/plain": [
       "   userID  movieID  rating  user_srl  movie_srl  \\\n",
       "0       1     1193       5         0       1104   \n",
       "1       1      661       3         0        639   \n",
       "2       1      914       3         0        853   \n",
       "3       1     3408       4         0       3177   \n",
       "4       1     2355       5         0       2162   \n",
       "\n",
       "                                    movie                         Genre  \n",
       "0  One Flew Over the Cuckoo's Nest (1975)                         Drama  \n",
       "1        James and the Giant Peach (1996)  Animation|Children's|Musical  \n",
       "2                     My Fair Lady (1964)               Musical|Romance  \n",
       "3                  Erin Brockovich (2000)                         Drama  \n",
       "4                    Bug's Life, A (1998)   Animation|Children's|Comedy  "
      ]
     },
     "execution_count": 21,
     "metadata": {},
     "output_type": "execute_result"
    }
   ],
   "source": [
    "df.head()"
   ]
  },
  {
   "cell_type": "markdown",
   "metadata": {},
   "source": [
    "### Recreate the user-item matrix with contiguous id-s mapped from original user and movie id. \n",
    "**For my matrix, movies are columns and users are rows**"
   ]
  },
  {
   "cell_type": "code",
   "execution_count": 22,
   "metadata": {},
   "outputs": [],
   "source": [
    "row = df.user_srl\n",
    "col = df.movie_srl\n",
    "data = df.rating\n",
    "R = sparse.coo_matrix((data, (row, col)), dtype=float)"
   ]
  },
  {
   "cell_type": "code",
   "execution_count": 23,
   "metadata": {},
   "outputs": [
    {
     "data": {
      "text/plain": [
       "((1000209,), (1000209,), (1000209,), (6040, 3706), scipy.sparse.coo.coo_matrix)"
      ]
     },
     "execution_count": 23,
     "metadata": {},
     "output_type": "execute_result"
    }
   ],
   "source": [
    "# np.savetxt(\"sparse A.csv\", A.toarray(), delimiter=\",\")\n",
    "row.shape, col.shape, data.shape, R.shape, type(R)"
   ]
  },
  {
   "cell_type": "markdown",
   "metadata": {},
   "source": [
    "### Run SVD on modified sparse rating matrix R, and reconstruct R_dash as an estimate of R"
   ]
  },
  {
   "cell_type": "code",
   "execution_count": 24,
   "metadata": {},
   "outputs": [],
   "source": [
    "# Reconstruct SVD\n",
    "from numpy import array\n",
    "from numpy import diag\n",
    "from numpy import dot\n",
    "from numpy import zeros\n",
    "from scipy.linalg import svd\n",
    "\n",
    "U, s, VT = svd(R.toarray())\n",
    "# create m x n Sigma matrix\n",
    "Sigma = zeros((R.shape[0], R.shape[1]))\n",
    "# populate Sigma with n x n diagonal matrix\n",
    "Sigma[:R.shape[1], :R.shape[1]] = diag(s)\n",
    "# reconstruct matrix\n",
    "R_dash = U.dot(Sigma.dot(VT))"
   ]
  },
  {
   "cell_type": "markdown",
   "metadata": {},
   "source": [
    "### The User and Movie Shapes"
   ]
  },
  {
   "cell_type": "code",
   "execution_count": 51,
   "metadata": {},
   "outputs": [
    {
     "data": {
      "text/plain": [
       "((3706, 3706), (6040, 6040), (3706,))"
      ]
     },
     "execution_count": 51,
     "metadata": {},
     "output_type": "execute_result"
    }
   ],
   "source": [
    "VT.shape, U.shape, s.shape\n",
    "# vt.T[0].sum(), u[0].sum()"
   ]
  },
  {
   "cell_type": "markdown",
   "metadata": {},
   "source": [
    "### 2. Optional: Reduce the size of the matrix\n",
    "\n",
    "If you failed trying to run SVD with your matrix due to computational resources, reduce the size of the matrix and call the new matrix R. If you did not need to reduce the size of R, then simply set skip this step."
   ]
  },
  {
   "cell_type": "markdown",
   "metadata": {},
   "source": [
    "### Ran it on 1 million rating dataset. No problem."
   ]
  },
  {
   "cell_type": "markdown",
   "metadata": {},
   "source": [
    "### 3. Set your test set apart\n",
    "\n",
    "Randomly choose about 2000 non-zero entries in R (2000 known ratings given by users to certain items) and create the test matrix B. Define A to be the rest of the non-zero entries. Essentially, A + B should be same as R. After the next few lines of code, you should have two matrices A and B. \n",
    "\n",
    "Note: A and B should have no common non-zero entry. The task here is to predict the zero (unknown) entries in A and test them against the available non-zero (known) entries in B."
   ]
  },
  {
   "cell_type": "markdown",
   "metadata": {},
   "source": [
    "### Test data carved out of full dataset"
   ]
  },
  {
   "cell_type": "code",
   "execution_count": 25,
   "metadata": {},
   "outputs": [],
   "source": [
    "test = df.sample(n=2000, random_state=99)\n",
    "row_te = test.user_srl\n",
    "col_te = test.movie_srl\n",
    "data_te = test.rating"
   ]
  },
  {
   "cell_type": "code",
   "execution_count": 26,
   "metadata": {},
   "outputs": [
    {
     "name": "stdout",
     "output_type": "stream",
     "text": [
      "In the test dataset 1422 unique users rated 1135 movies out of total 3883 and gave 2000 ratings with an average of 3.57 and SD of 1.10\n"
     ]
    }
   ],
   "source": [
    "p=len(test['user_srl'].unique());q=len(test['movie_srl'].unique());r=len(movies);s=len(test);t=test['rating'].mean();\n",
    "u=test['rating'].std()\n",
    "print(f'In the test dataset {p} unique users rated {q} movies out of total {r} and gave {s} ratings with an average of \\\n",
    "{t:.2f} and SD of {u:.2f}')"
   ]
  },
  {
   "cell_type": "code",
   "execution_count": 27,
   "metadata": {},
   "outputs": [
    {
     "data": {
      "text/html": [
       "<div>\n",
       "<style scoped>\n",
       "    .dataframe tbody tr th:only-of-type {\n",
       "        vertical-align: middle;\n",
       "    }\n",
       "\n",
       "    .dataframe tbody tr th {\n",
       "        vertical-align: top;\n",
       "    }\n",
       "\n",
       "    .dataframe thead th {\n",
       "        text-align: right;\n",
       "    }\n",
       "</style>\n",
       "<table border=\"1\" class=\"dataframe\">\n",
       "  <thead>\n",
       "    <tr style=\"text-align: right;\">\n",
       "      <th></th>\n",
       "      <th>userID</th>\n",
       "      <th>movieID</th>\n",
       "      <th>rating</th>\n",
       "      <th>user_srl</th>\n",
       "      <th>movie_srl</th>\n",
       "      <th>movie</th>\n",
       "      <th>Genre</th>\n",
       "    </tr>\n",
       "  </thead>\n",
       "  <tbody>\n",
       "    <tr>\n",
       "      <th>746925</th>\n",
       "      <td>4457</td>\n",
       "      <td>3203</td>\n",
       "      <td>4</td>\n",
       "      <td>4456</td>\n",
       "      <td>2983</td>\n",
       "      <td>Dead Calm (1989)</td>\n",
       "      <td>Thriller</td>\n",
       "    </tr>\n",
       "    <tr>\n",
       "      <th>826104</th>\n",
       "      <td>4960</td>\n",
       "      <td>3543</td>\n",
       "      <td>4</td>\n",
       "      <td>4959</td>\n",
       "      <td>3309</td>\n",
       "      <td>Diner (1982)</td>\n",
       "      <td>Comedy|Drama</td>\n",
       "    </tr>\n",
       "    <tr>\n",
       "      <th>618657</th>\n",
       "      <td>3749</td>\n",
       "      <td>852</td>\n",
       "      <td>2</td>\n",
       "      <td>3748</td>\n",
       "      <td>799</td>\n",
       "      <td>Tin Cup (1996)</td>\n",
       "      <td>Comedy|Romance</td>\n",
       "    </tr>\n",
       "    <tr>\n",
       "      <th>96591</th>\n",
       "      <td>648</td>\n",
       "      <td>2858</td>\n",
       "      <td>5</td>\n",
       "      <td>647</td>\n",
       "      <td>2651</td>\n",
       "      <td>American Beauty (1999)</td>\n",
       "      <td>Comedy|Drama</td>\n",
       "    </tr>\n",
       "    <tr>\n",
       "      <th>352290</th>\n",
       "      <td>2063</td>\n",
       "      <td>2763</td>\n",
       "      <td>3</td>\n",
       "      <td>2062</td>\n",
       "      <td>2558</td>\n",
       "      <td>Thomas Crown Affair, The (1999)</td>\n",
       "      <td>Action|Thriller</td>\n",
       "    </tr>\n",
       "  </tbody>\n",
       "</table>\n",
       "</div>"
      ],
      "text/plain": [
       "        userID  movieID  rating  user_srl  movie_srl  \\\n",
       "746925    4457     3203       4      4456       2983   \n",
       "826104    4960     3543       4      4959       3309   \n",
       "618657    3749      852       2      3748        799   \n",
       "96591      648     2858       5       647       2651   \n",
       "352290    2063     2763       3      2062       2558   \n",
       "\n",
       "                                  movie            Genre  \n",
       "746925                 Dead Calm (1989)         Thriller  \n",
       "826104                     Diner (1982)     Comedy|Drama  \n",
       "618657                   Tin Cup (1996)   Comedy|Romance  \n",
       "96591            American Beauty (1999)     Comedy|Drama  \n",
       "352290  Thomas Crown Affair, The (1999)  Action|Thriller  "
      ]
     },
     "execution_count": 27,
     "metadata": {},
     "output_type": "execute_result"
    }
   ],
   "source": [
    "test.head()"
   ]
  },
  {
   "cell_type": "markdown",
   "metadata": {},
   "source": [
    "### Creating the balance as training dataset"
   ]
  },
  {
   "cell_type": "code",
   "execution_count": 28,
   "metadata": {},
   "outputs": [],
   "source": [
    "train = df.loc[~df.index.isin(test.index), :]\n",
    "row_tr = train.user_srl\n",
    "col_tr = train.movie_srl\n",
    "data_tr = train.rating"
   ]
  },
  {
   "cell_type": "code",
   "execution_count": 29,
   "metadata": {},
   "outputs": [
    {
     "name": "stdout",
     "output_type": "stream",
     "text": [
      "In the train dataset 6040 unique users rated 3706 movies out of total 3883 and gave 998209 ratings with an average of 3.58 and SD of 1.12\n"
     ]
    }
   ],
   "source": [
    "p=len(train['user_srl'].unique());q=len(train['movie_srl'].unique());r=len(movies);s=len(train);t=train['rating'].mean();\n",
    "u=train['rating'].std()\n",
    "print(f'In the train dataset {p} unique users rated {q} movies out of total {r} and gave {s} ratings with an average of \\\n",
    "{t:.2f} and SD of {u:.2f}')"
   ]
  },
  {
   "cell_type": "code",
   "execution_count": 30,
   "metadata": {},
   "outputs": [
    {
     "data": {
      "text/html": [
       "<div>\n",
       "<style scoped>\n",
       "    .dataframe tbody tr th:only-of-type {\n",
       "        vertical-align: middle;\n",
       "    }\n",
       "\n",
       "    .dataframe tbody tr th {\n",
       "        vertical-align: top;\n",
       "    }\n",
       "\n",
       "    .dataframe thead th {\n",
       "        text-align: right;\n",
       "    }\n",
       "</style>\n",
       "<table border=\"1\" class=\"dataframe\">\n",
       "  <thead>\n",
       "    <tr style=\"text-align: right;\">\n",
       "      <th></th>\n",
       "      <th>userID</th>\n",
       "      <th>movieID</th>\n",
       "      <th>rating</th>\n",
       "      <th>user_srl</th>\n",
       "      <th>movie_srl</th>\n",
       "      <th>movie</th>\n",
       "      <th>Genre</th>\n",
       "    </tr>\n",
       "  </thead>\n",
       "  <tbody>\n",
       "    <tr>\n",
       "      <th>0</th>\n",
       "      <td>1</td>\n",
       "      <td>1193</td>\n",
       "      <td>5</td>\n",
       "      <td>0</td>\n",
       "      <td>1104</td>\n",
       "      <td>One Flew Over the Cuckoo's Nest (1975)</td>\n",
       "      <td>Drama</td>\n",
       "    </tr>\n",
       "    <tr>\n",
       "      <th>1</th>\n",
       "      <td>1</td>\n",
       "      <td>661</td>\n",
       "      <td>3</td>\n",
       "      <td>0</td>\n",
       "      <td>639</td>\n",
       "      <td>James and the Giant Peach (1996)</td>\n",
       "      <td>Animation|Children's|Musical</td>\n",
       "    </tr>\n",
       "    <tr>\n",
       "      <th>2</th>\n",
       "      <td>1</td>\n",
       "      <td>914</td>\n",
       "      <td>3</td>\n",
       "      <td>0</td>\n",
       "      <td>853</td>\n",
       "      <td>My Fair Lady (1964)</td>\n",
       "      <td>Musical|Romance</td>\n",
       "    </tr>\n",
       "    <tr>\n",
       "      <th>3</th>\n",
       "      <td>1</td>\n",
       "      <td>3408</td>\n",
       "      <td>4</td>\n",
       "      <td>0</td>\n",
       "      <td>3177</td>\n",
       "      <td>Erin Brockovich (2000)</td>\n",
       "      <td>Drama</td>\n",
       "    </tr>\n",
       "    <tr>\n",
       "      <th>4</th>\n",
       "      <td>1</td>\n",
       "      <td>2355</td>\n",
       "      <td>5</td>\n",
       "      <td>0</td>\n",
       "      <td>2162</td>\n",
       "      <td>Bug's Life, A (1998)</td>\n",
       "      <td>Animation|Children's|Comedy</td>\n",
       "    </tr>\n",
       "  </tbody>\n",
       "</table>\n",
       "</div>"
      ],
      "text/plain": [
       "   userID  movieID  rating  user_srl  movie_srl  \\\n",
       "0       1     1193       5         0       1104   \n",
       "1       1      661       3         0        639   \n",
       "2       1      914       3         0        853   \n",
       "3       1     3408       4         0       3177   \n",
       "4       1     2355       5         0       2162   \n",
       "\n",
       "                                    movie                         Genre  \n",
       "0  One Flew Over the Cuckoo's Nest (1975)                         Drama  \n",
       "1        James and the Giant Peach (1996)  Animation|Children's|Musical  \n",
       "2                     My Fair Lady (1964)               Musical|Romance  \n",
       "3                  Erin Brockovich (2000)                         Drama  \n",
       "4                    Bug's Life, A (1998)   Animation|Children's|Comedy  "
      ]
     },
     "execution_count": 30,
     "metadata": {},
     "output_type": "execute_result"
    }
   ],
   "source": [
    "train.head()"
   ]
  },
  {
   "cell_type": "markdown",
   "metadata": {},
   "source": [
    "### The train and test data have very similar distribution judged from their mean and SD vs. the total data\n",
    "\n",
    "**Create train dataset for SVD**"
   ]
  },
  {
   "cell_type": "code",
   "execution_count": 31,
   "metadata": {},
   "outputs": [],
   "source": [
    "B = sparse.coo_matrix((data_te, (row_te, col_te)), dtype=float)\n",
    "A = sparse.coo_matrix((data_tr, (row_tr, col_tr)), dtype=float)"
   ]
  },
  {
   "cell_type": "code",
   "execution_count": 32,
   "metadata": {},
   "outputs": [
    {
     "data": {
      "text/plain": [
       "((6040, 3706), 998209, 3575167.0, 0.15971804269432424, 3.581581612668289)"
      ]
     },
     "execution_count": 32,
     "metadata": {},
     "output_type": "execute_result"
    }
   ],
   "source": [
    "# index\n",
    "A.shape, (A>0).sum(), A.sum(), A.mean(), A.sum()/(A>0).sum()\n",
    "# B.shape, (B>0).sum(), B.sum(), B.mean(), B.sum()/(B>0).sum()"
   ]
  },
  {
   "cell_type": "markdown",
   "metadata": {},
   "source": [
    "### Run full SVD on sparse training matrix A amd reconstruct A_dash"
   ]
  },
  {
   "cell_type": "code",
   "execution_count": 33,
   "metadata": {},
   "outputs": [],
   "source": [
    "# Reconstruct SVD\n",
    "from numpy import array\n",
    "from numpy import diag\n",
    "from numpy import dot\n",
    "from numpy import zeros\n",
    "from scipy.linalg import svd\n",
    "# Singular-value decomposition\n",
    "U, s, VT = svd(A.toarray())\n",
    "# create m x n Sigma matrix\n",
    "Sigma = zeros((A.shape[0], A.shape[1]))\n",
    "# populate Sigma with n x n diagonal matrix\n",
    "Sigma[:A.shape[1], :A.shape[1]] = diag(s)\n",
    "# reconstruct matrix\n",
    "A_dash = U.dot(Sigma.dot(VT))"
   ]
  },
  {
   "cell_type": "markdown",
   "metadata": {},
   "source": [
    "### The User and Movie Shapes"
   ]
  },
  {
   "cell_type": "code",
   "execution_count": 53,
   "metadata": {},
   "outputs": [
    {
     "data": {
      "text/plain": [
       "((3706, 3706), (6040, 6040), (3706,))"
      ]
     },
     "execution_count": 53,
     "metadata": {},
     "output_type": "execute_result"
    }
   ],
   "source": [
    "VT.shape, U.shape, s.shape\n",
    "# vt.T[0].sum(), u[0].sum()"
   ]
  },
  {
   "cell_type": "markdown",
   "metadata": {},
   "source": [
    "### Compute Error vs. 2000 held out ratings in test dataframe based on un-normalized training data using A_dash"
   ]
  },
  {
   "cell_type": "code",
   "execution_count": 34,
   "metadata": {},
   "outputs": [
    {
     "name": "stdout",
     "output_type": "stream",
     "text": [
      "Root mean square error of test data using un-normalized raw training data: 3.7393849761692106\n"
     ]
    }
   ],
   "source": [
    "error = [A_dash[test.iloc[i]['user_srl'], test.iloc[i]['movie_srl']] - test.iloc[i]['rating'] for i in range(len(test))]\n",
    "rmse = np.sqrt(np.mean(np.square(error)))\n",
    "print('Root mean square error of test data using un-normalized raw training data:', rmse)"
   ]
  },
  {
   "cell_type": "markdown",
   "metadata": {},
   "source": [
    "### Very high RMSE with reconstructed A"
   ]
  },
  {
   "cell_type": "markdown",
   "metadata": {},
   "source": [
    "### 4. Normalize and center \n",
    "\n",
    "Please note that in A, B or R, the zero entries do not mean the corresponding ratings are zero. They are just unknown. Hence, you need to impute the missing (zero now) entries of A by the average of the known entries (row or column depending on how you have loaded your matrix) for each item. Call this matrix A1.\n",
    "\n",
    "Then, subtract the average rating given by each user from the corresponding row (or column). Call this matrix A2."
   ]
  },
  {
   "cell_type": "markdown",
   "metadata": {},
   "source": [
    "### Compute Average Movie Ratings of all users who have rated the movie i.e. column averages"
   ]
  },
  {
   "cell_type": "code",
   "execution_count": 35,
   "metadata": {},
   "outputs": [],
   "source": [
    "A1 = A.toarray()\n",
    "movie_avg = [A1[:,i].sum()/(A1[:,i]>0).sum() for i in range(A.shape[1])]"
   ]
  },
  {
   "cell_type": "markdown",
   "metadata": {},
   "source": [
    "### Insert average rating of a movie in the blanks of the corresponding column"
   ]
  },
  {
   "cell_type": "code",
   "execution_count": 36,
   "metadata": {},
   "outputs": [],
   "source": [
    "for i in range(A.shape[1]):\n",
    "    A1[A1[:,i]==0, i] = movie_avg[i]"
   ]
  },
  {
   "cell_type": "markdown",
   "metadata": {},
   "source": [
    "### Compute Average Rating of each user for the movies he/she has rated i.e. row averages"
   ]
  },
  {
   "cell_type": "code",
   "execution_count": 37,
   "metadata": {},
   "outputs": [
    {
     "data": {
      "text/plain": [
       "(array([[3.24259423],\n",
       "        [3.23698306],\n",
       "        [3.24047854],\n",
       "        ...,\n",
       "        [3.23779661],\n",
       "        [3.23600795],\n",
       "        [3.21255326]]), (6040, 1))"
      ]
     },
     "execution_count": 37,
     "metadata": {},
     "output_type": "execute_result"
    }
   ],
   "source": [
    "user_avg = A1.mean(axis=1).reshape(-1,1)\n",
    "user_avg, user_avg.shape"
   ]
  },
  {
   "cell_type": "markdown",
   "metadata": {},
   "source": [
    "### Normalized Rating of each user for each movie he/she has rated or imputed with movie average - dense matrix"
   ]
  },
  {
   "cell_type": "code",
   "execution_count": 38,
   "metadata": {},
   "outputs": [],
   "source": [
    "A2 = A1 - user_avg"
   ]
  },
  {
   "cell_type": "code",
   "execution_count": 39,
   "metadata": {},
   "outputs": [],
   "source": [
    "# A1 = \n",
    "# A2 = "
   ]
  },
  {
   "cell_type": "markdown",
   "metadata": {},
   "source": [
    "### 5. Compute SVD \n",
    "\n",
    "Compute SVD of the matrix A2."
   ]
  },
  {
   "cell_type": "code",
   "execution_count": 40,
   "metadata": {},
   "outputs": [],
   "source": [
    "# Use your choice of variables for U, Sigma and V_transpose\n",
    "# Compute SVD of A2"
   ]
  },
  {
   "cell_type": "markdown",
   "metadata": {},
   "source": [
    "### Run full SVD on filled in training matrix A2 and reconstruct A2_dash"
   ]
  },
  {
   "cell_type": "code",
   "execution_count": 41,
   "metadata": {},
   "outputs": [],
   "source": [
    "# Reconstruct SVD\n",
    "from numpy import array\n",
    "from numpy import diag\n",
    "from numpy import dot\n",
    "from numpy import zeros\n",
    "from scipy.linalg import svd\n",
    "# Singular-value decomposition\n",
    "U, s, VT = svd(A2)\n",
    "# create m x n Sigma matrix\n",
    "Sigma = zeros((A2.shape[0], A2.shape[1]))\n",
    "# populate Sigma with n x n diagonal matrix\n",
    "Sigma[:A2.shape[1], :A2.shape[1]] = diag(s)\n",
    "# reconstruct matrix\n",
    "A2_dash = U.dot(Sigma.dot(VT))"
   ]
  },
  {
   "cell_type": "markdown",
   "metadata": {},
   "source": [
    "### The User and Movie Shapes"
   ]
  },
  {
   "cell_type": "code",
   "execution_count": 54,
   "metadata": {},
   "outputs": [
    {
     "data": {
      "text/plain": [
       "((3706, 3706), (6040, 6040), (3706,))"
      ]
     },
     "execution_count": 54,
     "metadata": {},
     "output_type": "execute_result"
    }
   ],
   "source": [
    "VT.shape, U.shape, s.shape\n",
    "# vt.T[0].sum(), u[0].sum()"
   ]
  },
  {
   "cell_type": "markdown",
   "metadata": {},
   "source": [
    "### Reconstruct A_dash from SVD components of A2 and evaluate with test data. Here we will have to add back the user average rating that was subtracted to get A2."
   ]
  },
  {
   "cell_type": "markdown",
   "metadata": {},
   "source": [
    "### Compute Error compared 2000 rating that were held out in test dataframe"
   ]
  },
  {
   "cell_type": "code",
   "execution_count": 42,
   "metadata": {},
   "outputs": [
    {
     "name": "stdout",
     "output_type": "stream",
     "text": [
      "Root mean square error of test data using full normalized A2: 0.977687\n"
     ]
    }
   ],
   "source": [
    "error_A2 = [A2_dash[test.iloc[i]['user_srl'], test.iloc[i]['movie_srl']] + \n",
    "            user_avg[test.iloc[i]['user_srl']] -\n",
    "            test.iloc[i]['rating'] for i in range(len(test))]\n",
    "rmse_A2 = np.sqrt(np.mean(np.square(error_A2)))\n",
    "print(f'Root mean square error of test data using full normalized A2: {rmse_A2:.6f}')"
   ]
  },
  {
   "cell_type": "markdown",
   "metadata": {},
   "source": [
    "# MUCH BETTER!\n",
    "\n",
    "**Down to under 1 scale point**"
   ]
  },
  {
   "cell_type": "markdown",
   "metadata": {},
   "source": [
    "### 6. Compute the low rank approximation \n",
    "\n",
    "Compute the low rank approximation of A2. The choice of k is up to you, but we would encourage you to try out a few different k and see which works better. Mention your experience in the readme report."
   ]
  },
  {
   "cell_type": "markdown",
   "metadata": {},
   "source": [
    "### Run SVD on sparse training matrix A2, with different values of k to minimize recontruction error. We have 0.98 as baseline with full SVD reconstruction.\n",
    "https://machinelearningmastery.com/singular-value-decomposition-for-machine-learning/"
   ]
  },
  {
   "cell_type": "markdown",
   "metadata": {},
   "source": [
    "### Small function to compute reconstructed matrix for different values of k"
   ]
  },
  {
   "cell_type": "code",
   "execution_count": 43,
   "metadata": {},
   "outputs": [],
   "source": [
    "def reconfromsvd(a, k):\n",
    "    u, s, vt = svds(a,k)\n",
    "    # create kxk Sigma matrix\n",
    "    Sigma = np.zeros((k,k))\n",
    "    # populate Sigma with k diagonal elements\n",
    "    np.fill_diagonal(Sigma, s)\n",
    "    # reconstruct matrix\n",
    "    a_dash = u.dot(Sigma.dot(vt))\n",
    "    \n",
    "    return a_dash"
   ]
  },
  {
   "cell_type": "markdown",
   "metadata": {},
   "source": [
    "### Plot for optimum number of dimensions K"
   ]
  },
  {
   "cell_type": "code",
   "execution_count": 45,
   "metadata": {},
   "outputs": [],
   "source": [
    "plot_val = []\n",
    "for K in np.arange(10, 310, 5):\n",
    "    A2_dash = reconfromsvd(A2,K)\n",
    "    error = [A2_dash[test.iloc[i]['user_srl'], test.iloc[i]['movie_srl']] +\n",
    "             user_avg[test.iloc[i]['user_srl']] -\n",
    "             test.iloc[i]['rating'] for i in range(len(test))]\n",
    "    rmse = np.sqrt(np.mean(np.square(error)))\n",
    "    val = [K,rmse]\n",
    "    plot_val.append(val)"
   ]
  },
  {
   "cell_type": "code",
   "execution_count": 46,
   "metadata": {},
   "outputs": [],
   "source": [
    "x = [plot_val[i][0] for i in range(len(plot_val))]\n",
    "y = [plot_val[i][1] for i in range(len(plot_val))]"
   ]
  },
  {
   "cell_type": "code",
   "execution_count": 47,
   "metadata": {},
   "outputs": [
    {
     "data": {
      "text/plain": [
       "[[10, 0.9131434967506512],\n",
       " [15, 0.9061812540318722],\n",
       " [20, 0.9027367006179087],\n",
       " [25, 0.9006506197112903],\n",
       " [30, 0.900342337193108],\n",
       " [35, 0.8988774616005114],\n",
       " [40, 0.8983756179904772],\n",
       " [45, 0.9000259099159102],\n",
       " [50, 0.8985059454472567],\n",
       " [55, 0.8987354489946084],\n",
       " [60, 0.900013818898485],\n",
       " [65, 0.9029895245974098],\n",
       " [70, 0.9034808545984178],\n",
       " [75, 0.9031609411068028],\n",
       " [80, 0.9048887391530405],\n",
       " [85, 0.9054657057757517],\n",
       " [90, 0.9056111979313228],\n",
       " [95, 0.9068924913607322],\n",
       " [100, 0.905437895877992],\n",
       " [105, 0.9052984459393246],\n",
       " [110, 0.9058044672221505],\n",
       " [115, 0.9056841773471973],\n",
       " [120, 0.9078304727428763],\n",
       " [125, 0.909403026910552],\n",
       " [130, 0.9109732887836823],\n",
       " [135, 0.9115631037907335],\n",
       " [140, 0.912208656523862],\n",
       " [145, 0.912183674443807],\n",
       " [150, 0.9131249417824991],\n",
       " [155, 0.9138169417600777],\n",
       " [160, 0.915252375201121],\n",
       " [165, 0.9154565248334358],\n",
       " [170, 0.9175721956734322],\n",
       " [175, 0.91643343905622],\n",
       " [180, 0.9179117115459987],\n",
       " [185, 0.9176595523851356],\n",
       " [190, 0.9179225816113117],\n",
       " [195, 0.9172491251024095],\n",
       " [200, 0.9166171347250637],\n",
       " [205, 0.9171839111771726],\n",
       " [210, 0.9177982724903898],\n",
       " [215, 0.9196321956343804],\n",
       " [220, 0.9192607572361001],\n",
       " [225, 0.9219636148094007],\n",
       " [230, 0.9224252431270373],\n",
       " [235, 0.9232827555682421],\n",
       " [240, 0.9225316058971752],\n",
       " [245, 0.9241812709229541],\n",
       " [250, 0.9252346424894163],\n",
       " [255, 0.9256602928996339],\n",
       " [260, 0.9249868784348662],\n",
       " [265, 0.9248823707444848],\n",
       " [270, 0.9243707915394175],\n",
       " [275, 0.9237505082593476],\n",
       " [280, 0.9234557038210967],\n",
       " [285, 0.9247274065227166],\n",
       " [290, 0.926370821932194],\n",
       " [295, 0.9275819257409998],\n",
       " [300, 0.9283339087224148],\n",
       " [305, 0.9290368572415082]]"
      ]
     },
     "execution_count": 47,
     "metadata": {},
     "output_type": "execute_result"
    }
   ],
   "source": [
    "plot_val"
   ]
  },
  {
   "cell_type": "code",
   "execution_count": 48,
   "metadata": {},
   "outputs": [
    {
     "data": {
      "image/png": "[encoded data removed]",
      "text/plain": [
       "<Figure size 1080x360 with 1 Axes>"
      ]
     },
     "metadata": {
      "needs_background": "light"
     },
     "output_type": "display_data"
    }
   ],
   "source": [
    "plt.figure(figsize=(15,5))\n",
    "plt.plot(x, y, 'ro')\n",
    "plt.axis([0, 310, 0.895, 0.93])\n",
    "# plt.xaxis([np.arange(10, 210, 10)])\n",
    "# plt.yaxis([0.89, 0.92])\n",
    "plt.xlabel('K=Dimensions')\n",
    "plt.ylabel('Recon RMSE')\n",
    "plt.title('Finding Minimum RMSE for K Low Rank Apprx of A2 on test data', fontsize=20)\n",
    "plt.show()"
   ]
  },
  {
   "cell_type": "markdown",
   "metadata": {},
   "source": [
    "### RMSE corresponding to K=40 gives the lowest value"
   ]
  },
  {
   "cell_type": "code",
   "execution_count": 49,
   "metadata": {},
   "outputs": [
    {
     "name": "stdout",
     "output_type": "stream",
     "text": [
      "The lower Root mean square error, 0.898376 for test data comes for k = 40 using normalized A2\n"
     ]
    }
   ],
   "source": [
    "RMSE_Ak_min=plot_val[6][1];K_min=plot_val[6][0]\n",
    "print(f'The lower Root mean square error, {RMSE_Ak_min:.6f} for test data comes for k = {K_min} using normalized A2')"
   ]
  },
  {
   "cell_type": "markdown",
   "metadata": {},
   "source": [
    "#  k=40 minimizes SVD recon RMSE=0.8984 on normalized A2. Can be thought of as there exists 40 sub genres which are different combinations of 18 current ones that should provide coherent clustering of movies"
   ]
  },
  {
   "cell_type": "markdown",
   "metadata": {},
   "source": [
    "### 7. Test the performance\n",
    "\n",
    "Compute the root-mean-squared-error (RMSE) against the known ratings to test how the method performed, using A1 (which predicts ratings just by average known ratings) and Ak against B.\n",
    "\n",
    "The RMSE is the square root of the average squared errors between the known ratings and the predicted ratings. For our set up, consider only the pairs of (user,item) pairs (i,j) for which B[i,j] > 0. Then compute the square root of the average squared difference between A2 and B (also Ak and B) only for this set of pairs (i,j). \n",
    "\n",
    "$$RMSE(A2, B) = \\sqrt{\\frac{\\sum_{i,j: B_{ij} > 0}(A2_{ij} - B_{ij})^2}{\\sum_{i,j: B_{ij} > 0} 1}}.$$\n",
    "\n",
    "$$RMSE(Ak, B) = \\sqrt{\\frac{\\sum_{i,j: B_{ij} > 0}(Ak_{ij} - B_{ij})^2}{\\sum_{i,j: B_{ij} > 0} 1}}.$$"
   ]
  },
  {
   "cell_type": "code",
   "execution_count": 50,
   "metadata": {},
   "outputs": [
    {
     "name": "stdout",
     "output_type": "stream",
     "text": [
      "RMSE with A2 is 0.977687.\n",
      "RMSE with Ak is 0.898376.\n"
     ]
    }
   ],
   "source": [
    "# Write your code here (several lines)\n",
    "# At the end of the code, your must have two variables with the RMSEs (will not be 0.0), as given below\n",
    "RMSE_A2 = rmse_A2\n",
    "RMSE_Ak = RMSE_Ak_min\n",
    "print(\"RMSE with A2 is %f.\" %RMSE_A2)\n",
    "print(\"RMSE with Ak is %f.\" %RMSE_Ak)"
   ]
  },
  {
   "cell_type": "code",
   "execution_count": null,
   "metadata": {},
   "outputs": [],
   "source": []
  }
 ],
 "metadata": {
  "kernelspec": {
   "display_name": "Python 3",
   "language": "python",
   "name": "python3"
  },
  "language_info": {
   "codemirror_mode": {
    "name": "ipython",
    "version": 3
   },
   "file_extension": ".py",
   "mimetype": "text/x-python",
   "name": "python",
   "nbconvert_exporter": "python",
   "pygments_lexer": "ipython3",
   "version": "3.7.4"
  }
 },
 "nbformat": 4,
 "nbformat_minor": 2
}
